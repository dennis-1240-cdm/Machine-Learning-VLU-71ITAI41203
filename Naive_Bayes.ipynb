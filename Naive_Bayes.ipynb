{
 "cells": [
  {
   "cell_type": "markdown",
   "id": "534317fc-8171-4d04-8578-2e72a1044c17",
   "metadata": {},
   "source": [
    "Câu 1: Phân phối Bernoulli và Multinomial"
   ]
  },
  {
   "attachments": {},
   "cell_type": "markdown",
   "id": "76d3781c-fd56-42a9-b2b7-9999364c2892",
   "metadata": {},
   "source": [
    "Cho tập dữ liệu Education.csv [https://drive.google.com/file/d/1Gn6YWHXRuPbTUXY5HFxM5C_tJHuZxCka/view?usp=sharing]\n",
    "- Trong đó:\n",
    "    - Text: Chứa đoạn văn bản liên quan đến chủ đề giáo dục.\n",
    "    - Label: Chứa nhãn cảm xúc của văn bản [Tích cực (Positive)/Tiêu cực (Negative)].\n",
    "- Yêu cầu: Áp dụng thuật toán Naive Bayes (phân phối bernoulli và phân phối Multinomial) để dự đoán cảm xúc của văn bản là tích cực hay tiêu cực và so sánh kết quả của hai phân phối đó."
   ]
  },
  {
   "cell_type": "markdown",
   "id": "2ddba7d5-909f-4def-9a45-60bf83f7741c",
   "metadata": {},
   "source": [
    "Câu 2: Phân phối Gaussian"
   ]
  },
  {
   "cell_type": "markdown",
   "id": "acdf8be6-a117-4c6f-9035-4edc4190f185",
   "metadata": {},
   "source": [
    "Cho tập dữ liệu Drug.csv [https://drive.google.com/file/d/1_G8oXkLlsauQkujZzJZJwibAWu5PgBXK/view?usp=sharing]\n",
    "- Trong đó:\n",
    "  - Age: Tuổi của bệnh nhân\n",
    "  - Sex: Giới tính của bệnh nhân\n",
    "  - BP: Mức huyết áp\n",
    "  - Cholesterol: Mức cholesterol trong máu\n",
    "  - Na_to_K: Tỷ lệ Natri và Kali trong máu\n",
    "  - Drug: Loại thuốc [A/B/C/X/Y]\n",
    "- Yêu cầu: Áp dụng thuật toán Naive Bayes (phân phối Gaussian) để dự đoán kết quả loại thuốc phù hợp với bệnh nhân."
   ]
  },
  {
   "cell_type": "code",
   "execution_count": 4,
   "id": "3bd8ce91-9d07-4213-aabb-c4696f3fd50d",
   "metadata": {},
   "outputs": [
    {
     "name": "stdout",
     "output_type": "stream",
     "text": [
      "Text,Label\n",
      "\"The, impact, of, educational, reforms, remains, uncertain, despite, extensive, research.\",positive\n",
      "\"Critics, argue, that, recent, improvements, in, the, school, system, are, merely, superficial.\",negative\n",
      "\"Innovative, teaching, methods, have, led, to, unexpected, challenges, for, both, students, and, teachers.\",positive\n",
      "\"Despite, budget, constraints,, the, school, has, managed, to, maintain, a, high, level, of, academic, excellence.\",positive\n",
      "\"The, true, effectiveness, of, online, learning, platforms, is, still, a, matter, of, debate, among, educators.\",negative\n",
      "\"The, role, of, standardized, testing, in, education, remains, a, contentious, issue.\",positive\n",
      "\"School, curricula, should, focus, more, on, practical, skills, and, less, on, theoretical, knowledge.\",positive\n",
      "\"Educational, technology, has, the, potential, to, revolutionize, learning,, but, it, also, poses, risks.\",positive\n",
      "\"Charter, schools, offer, alternatives, to, traditional, education,, but, their, effectiveness, is, debated.\",positive\n",
      "\"Teacher, tenure, policies, aim, to, protect, educators,, but, they, also, hinder, accountability.\",positive\n",
      "\"Special, education, programs, strive, to, support, diverse, learners,, but, funding, often, falls, short.\",positive\n",
      "\"Early, childhood, education, lays, the, foundation, for, lifelong, learning,, yet, it, faces, funding, challenges.\",positive\n",
      "\"Higher, education, should, prioritize, critical, thinking, skills, over, rote, memorization.\",positive\n",
      "\"Online, learning, platforms, provide, flexibility,, but, they, lack, the, personal, interaction, of, traditional, classrooms.\",positive\n",
      "\"Education, funding, disparities, perpetuate, inequalities, in, access, and, opportunity.\",positive\n",
      "\"Standardized, curricula, limit, teachers', creativity, and, flexibility, in, the, classroom.\",negative\n",
      "\"The, emphasis, on, testing, leads, to, a, narrow, focus, on, exam, preparation, at, the, expense, of, holistic, learning.\",negative\n",
      "\"Privatization, efforts, in, education, prioritize, profit, over, student, well-being.\",negative\n",
      "\"Resource, allocation, in, schools, often, favors, affluent, communities, over, marginalized, ones.\",negative\n",
      "\"Educational, policies, fail, to, address, the, diverse, needs, of, students, from, different, backgrounds.\",negative\n",
      "\"Charter, schools, divert, resources, from, public, education, and, exacerbate, inequalities.\",negative\n",
      "\"Teacher, evaluations, based, on, student, test, scores, undermine, the, profession's, integrity.\",negative\n",
      "\"The, reliance, on, technology, in, education, leads, to, increased, screen, time, and, decreased, social, interaction.\",negative\n",
      "\"Education, reform, efforts, often, neglect, input, from, educators, and, students.\",negative\n",
      "\"Budget, cuts, in, education, result, in, larger, class, sizes, and, fewer, resources, for, students.\",negative\n",
      "\"Standardized, testing, perpetuates, a, culture, of, competition, rather, than, collaboration.\",positive\n",
      "\"Educators, should, receive, more, support, and, recognition, for, their, crucial, role, in, society.\",positive\n",
      "\"Critical, thinking, skills, are, essential, for, navigating, today's, complex, world.\",positive\n",
      "\"Project-based, learning, fosters, creativity, and, engagement, among, students.\",positive\n",
      "\"Access, to, quality, education, should, be, a, universal, right,, not, a, privilege.\",positive\n",
      "\"Education, policies, should, be, informed, by, research, and, best, practices.\",positive\n",
      "\"Teacher, diversity, is, important, for, promoting, inclusivity, and, cultural, competence.\",positive\n",
      "\"Education, should, empower, students, to, become, lifelong, learners, and, critical, thinkers.\",positive\n",
      "\"Standardized, tests, fail, to, capture, the, full, range, of, students', abilities, and, potential.\",negative\n",
      "\"Educational, standards, should, be, flexible, to, accommodate, diverse, learning, styles.\",negative\n",
      "\"The, focus, on, standardized, testing, narrows, the, curriculum, and, stifles, creativity.\",negative\n",
      "\"Privatization, of, education, leads, to, disparities, in, access, and, quality.\",negative\n",
      "\"Underfunded, schools, struggle, to, provide, adequate, resources, and, support, for, students.\",negative\n",
      "\"Educational, technology, can, be, isolating, and, impersonal,, hindering, meaningful, connections.\",negative\n",
      "\"Public, education, should, be, funded, adequately, to, ensure, equity, and, excellence.\",negative\n",
      "\"Standardized, testing, perpetuates, inequities, by, favoring, students, from, privileged, backgrounds.\",negative\n",
      "\"Educational, initiatives, often, prioritize, short-term, gains, over, long-term, sustainability.\",positive\n",
      "\"Teacher, training, programs, should, focus, more, on, practical, classroom, strategies.\",positive\n",
      "\"Parental, involvement, is, crucial, for, student, success, and, academic, achievement.\",positive\n",
      "\"Project-based, learning, encourages, collaboration, and, problem-solving, skills.\",positive\n",
      "\"Education, should, emphasize, global, citizenship, and, cultural, awareness.\",positive\n",
      "\"Standardized, tests, create, unnecessary, stress, and, anxiety, for, students.\",negative\n",
      "\"Educational, policies, should, be, responsive, to, the, needs, and, aspirations, of, diverse, communities.\",negative\n",
      "\"Charter, schools, drain, resources, from, public, education, and, exacerbate, segregation.\",negative\n",
      "\"Educational, inequities, persist, despite, efforts, to, bridge, the, gap.\",negative\n",
      "\"Online, education, offers, flexibility, but, lacks, the, social, interaction, of, traditional, classrooms.\",negative\n",
      "\"Teacher, evaluation, systems, should, incorporate, multiple, measures, of, effectiveness.\",negative\n"
     ]
    }
   ],
   "source": []
  },
  {
   "cell_type": "code",
   "execution_count": null,
   "id": "2105ee06-30d0-45e7-a703-3535ea6fd195",
   "metadata": {},
   "outputs": [],
   "source": []
  },
  {
   "cell_type": "markdown",
   "id": "24034aa2-86b2-488b-8746-cf43222c99bc",
   "metadata": {},
   "source": []
  },
  {
   "cell_type": "code",
   "execution_count": null,
   "id": "69d5fc8b-7f0b-48bd-9d34-664942841b77",
   "metadata": {},
   "outputs": [],
   "source": []
  }
 ],
 "metadata": {
  "kernelspec": {
   "display_name": "Python 3 (ipykernel)",
   "language": "python",
   "name": "python3"
  },
  "language_info": {
   "codemirror_mode": {
    "name": "ipython",
    "version": 3
   },
   "file_extension": ".py",
   "mimetype": "text/x-python",
   "name": "python",
   "nbconvert_exporter": "python",
   "pygments_lexer": "ipython3",
   "version": "3.10.5"
  }
 },
 "nbformat": 4,
 "nbformat_minor": 5
}
